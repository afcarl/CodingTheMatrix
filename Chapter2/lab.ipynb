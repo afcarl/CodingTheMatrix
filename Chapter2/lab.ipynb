{
 "cells": [
  {
   "cell_type": "code",
   "execution_count": 1,
   "metadata": {
    "collapsed": false
   },
   "outputs": [],
   "source": [
    "import os\n",
    "import sys\n",
    "import numpy as np\n",
    "import pandas as pd\n",
    "import matplotlib.pyplot as plt\n",
    "%matplotlib inline"
   ]
  },
  {
   "cell_type": "code",
   "execution_count": 2,
   "metadata": {
    "collapsed": false
   },
   "outputs": [],
   "source": [
    "f = open('voting_record_dump109.txt')\n",
    "mylist = list(f)"
   ]
  },
  {
   "cell_type": "code",
   "execution_count": 3,
   "metadata": {
    "collapsed": true
   },
   "outputs": [],
   "source": [
    "def create_voting_dict(l,d):\n",
    "    v = [int(x) for x in l[3:]]\n",
    "    d[l[0]] = v\n",
    "    return d"
   ]
  },
  {
   "cell_type": "code",
   "execution_count": 4,
   "metadata": {
    "collapsed": false,
    "scrolled": false
   },
   "outputs": [],
   "source": [
    "voting_dict = {}\n",
    "voting_dict = [create_voting_dict(l.strip().split(' '), voting_dict) for l in mylist]\n",
    "voting_dict = voting_dict[0]"
   ]
  },
  {
   "cell_type": "code",
   "execution_count": 69,
   "metadata": {
    "collapsed": false
   },
   "outputs": [],
   "source": [
    "def policy_compare(sen_a, sen_b, voting_dict):\n",
    "    a = voting_dict[sen_a]\n",
    "    b = voting_dict[sen_b]\n",
    "    return sum([a[i]*b[i] for i in range(len(a)) ])"
   ]
  },
  {
   "cell_type": "code",
   "execution_count": 24,
   "metadata": {
    "collapsed": false
   },
   "outputs": [
    {
     "name": "stdout",
     "output_type": "stream",
     "text": [
      "46\n",
      "46\n",
      "32\n"
     ]
    }
   ],
   "source": [
    "policy_compare('Pryor','Bunning', voting_dict)"
   ]
  },
  {
   "cell_type": "code",
   "execution_count": 46,
   "metadata": {
    "collapsed": false
   },
   "outputs": [],
   "source": [
    "def most_similar(sen, voting_dict):\n",
    "    sen_list = voting_dict.keys()\n",
    "    sen_list.remove(sen)\n",
    "    print sen\n",
    "    a = voting_dict[sen]\n",
    "    val = -1*len(a)\n",
    "    s = None\n",
    "    for other_sen in sen_list:\n",
    "        b = voting_dict[other_sen]\n",
    "        value = sum([a[i]*b[i] for i in range(len(a))])\n",
    "        if value > val:\n",
    "            s = [other_sen, value]\n",
    "            val = value\n",
    "    return s"
   ]
  },
  {
   "cell_type": "code",
   "execution_count": 47,
   "metadata": {
    "collapsed": false
   },
   "outputs": [
    {
     "name": "stdout",
     "output_type": "stream",
     "text": [
      "Pryor\n"
     ]
    },
    {
     "data": {
      "text/plain": [
       "['Nelson1', 44]"
      ]
     },
     "execution_count": 47,
     "metadata": {},
     "output_type": "execute_result"
    }
   ],
   "source": [
    "most_similar('Pryor', voting_dict)"
   ]
  },
  {
   "cell_type": "code",
   "execution_count": 64,
   "metadata": {
    "collapsed": true
   },
   "outputs": [],
   "source": [
    "def least_similar(sen, voting_dict):\n",
    "    sen_list = voting_dict.keys()\n",
    "    sen_list.remove(sen)\n",
    "    print sen\n",
    "    a = voting_dict[sen]\n",
    "    val = 1*len(a)\n",
    "    s = None\n",
    "    for other_sen in sen_list:\n",
    "        b = voting_dict[other_sen]\n",
    "        value = sum([a[i]*b[i] for i in range(len(a))])\n",
    "        if value < val:\n",
    "            s = [other_sen, value]\n",
    "            val = value\n",
    "    return s"
   ]
  },
  {
   "cell_type": "code",
   "execution_count": 65,
   "metadata": {
    "collapsed": false
   },
   "outputs": [
    {
     "name": "stdout",
     "output_type": "stream",
     "text": [
      "Pryor\n"
     ]
    },
    {
     "data": {
      "text/plain": [
       "['Feingold', 12]"
      ]
     },
     "execution_count": 65,
     "metadata": {},
     "output_type": "execute_result"
    }
   ],
   "source": [
    "least_similar('Pryor', voting_dict)"
   ]
  },
  {
   "cell_type": "code",
   "execution_count": 88,
   "metadata": {
    "collapsed": false
   },
   "outputs": [
    {
     "data": {
      "text/plain": [
       "['Sessions R AL 1 1 1 1 1 1 1 1 1 -1 1 -1 0 1 1 1 1 1 1 1 1 1 1 -1 1 1 1 1 1 1 1 1 1 1 1 1 1 1 1 1 1 1 1 1 1 1\\n',\n",
       " 'Shelby R AL 1 1 1 1 1 1 1 1 1 1 1 -1 1 1 -1 1 1 1 1 1 1 1 1 -1 -1 1 1 1 1 1 1 1 1 1 1 1 1 1 1 1 1 1 1 1 1 0\\n']"
      ]
     },
     "execution_count": 88,
     "metadata": {},
     "output_type": "execute_result"
    }
   ],
   "source": [
    "[x for x in mylist if x.split(' ')[2]=='AL']"
   ]
  },
  {
   "cell_type": "code",
   "execution_count": 70,
   "metadata": {
    "collapsed": false
   },
   "outputs": [
    {
     "data": {
      "text/plain": [
       "35"
      ]
     },
     "execution_count": 70,
     "metadata": {},
     "output_type": "execute_result"
    }
   ],
   "source": [
    "policy_compare('Clinton','Schumer', voting_dict)"
   ]
  },
  {
   "cell_type": "code",
   "execution_count": 309,
   "metadata": {
    "collapsed": false
   },
   "outputs": [],
   "source": [
    "def find_average_similarity(sen_set, voting_dict):\n",
    "    sen_set_list = [z.split(' ')[0] for z in [x for x in mylist if x.split(' ')[1]==sen_set]]\n",
    "    val = -46\n",
    "    s = None\n",
    "    for sen1 in voting_dict.keys():\n",
    "        a = voting_dict[sen1]\n",
    "        value = 0\n",
    "        for sen2 in sen_set_list:\n",
    "            b = voting_dict[sen2]\n",
    "            value += sum([a[i]*b[i] for i in range(len(a))])\n",
    "        value = value//43\n",
    "        if value > val:\n",
    "            s = [sen1, value]\n",
    "            val = value\n",
    "    return s"
   ]
  },
  {
   "cell_type": "code",
   "execution_count": 310,
   "metadata": {
    "collapsed": false,
    "scrolled": false
   },
   "outputs": [
    {
     "data": {
      "text/plain": [
       "['Biden', 34]"
      ]
     },
     "execution_count": 310,
     "metadata": {},
     "output_type": "execute_result"
    }
   ],
   "source": [
    "find_average_similarity('D',voting_dict)"
   ]
  },
  {
   "cell_type": "code",
   "execution_count": 296,
   "metadata": {
    "collapsed": false
   },
   "outputs": [],
   "source": [
    "def find_average_record(sen_set, voting_dict):\n",
    "    sen_set_list = [z.split(' ')[0] for z in [x for x in mylist if x.split(' ')[1]==sen_set]]\n",
    "    values = [voting_dict[x] for x in sen_set_list]\n",
    "    l = [sum(i) for i in zip(*values)]\n",
    "    return [x/len(sen_set_list) for x in l]"
   ]
  },
  {
   "cell_type": "code",
   "execution_count": 297,
   "metadata": {
    "collapsed": true
   },
   "outputs": [],
   "source": [
    "def most_similar_demo(average_Democrat_record, voting_dict):\n",
    "    a = average_Democrat_record\n",
    "    val = -1*len(a)\n",
    "    for other_sen in voting_dict.keys():\n",
    "        b = voting_dict[other_sen]\n",
    "        value = sum([a[i]*b[i] for i in range(len(a))])\n",
    "        if value > val:\n",
    "            s = [other_sen, value]\n",
    "            val = value\n",
    "    return s"
   ]
  },
  {
   "cell_type": "code",
   "execution_count": 298,
   "metadata": {
    "collapsed": false
   },
   "outputs": [
    {
     "name": "stdout",
     "output_type": "stream",
     "text": [
      "[-1, -1, 1, 0, 0, -1, -1, 0, 0, 0, 0, 0, 0, 0, -1, 0, 0, 0, -1, 0, 1, 1, 1, 0, -1, 1, -1, -1, 0, 0, 0, 0, 1, 1, 0, -1, 0, -1, 0, 0, 0, 0, -1, 1, 0, -1]\n"
     ]
    },
    {
     "data": {
      "text/plain": [
       "['Mikulski', 21]"
      ]
     },
     "execution_count": 298,
     "metadata": {},
     "output_type": "execute_result"
    }
   ],
   "source": [
    "average_Democrat_record = find_average_record('D',voting_dict)\n",
    "most_similar_demo(average_Democrat_record, voting_dict)"
   ]
  },
  {
   "cell_type": "code",
   "execution_count": 290,
   "metadata": {
    "collapsed": true
   },
   "outputs": [],
   "source": [
    "def bitter_rivals(voting_dict):\n",
    "    sen = voting_dict.keys()\n",
    "    print sen\n",
    "    val = 1*len(sen[0])\n",
    "    num = 0\n",
    "    for sen1 in sen[:-1]:\n",
    "        a = voting_dict[sen1]\n",
    "        for sen2 in sen[num+1:]:\n",
    "            if sen1!=sen2:\n",
    "                b = voting_dict[sen2]\n",
    "                value = sum([a[i]*b[i] for i in range(len(a))])\n",
    "                if value < val:\n",
    "                    s = [sen1,sen2, value]\n",
    "                    val = value\n",
    "        num +=1\n",
    "    return s\n",
    "                \n",
    "                "
   ]
  },
  {
   "cell_type": "code",
   "execution_count": 266,
   "metadata": {
    "collapsed": false
   },
   "outputs": [
    {
     "name": "stdout",
     "output_type": "stream",
     "text": [
      "['Pryor', 'Bunning', 'Shelby', 'Smith', 'Domenici', 'Lott', 'Vitter', 'Wyden', 'Brownback', 'Lautenberg', 'Burr', 'Burns', 'Santorum', 'Levin', 'Roberts', 'Salazar', 'DeWine', 'Thomas', 'Enzi', 'Kyl', 'Hagel', 'Ensign', 'Biden', 'Craig', 'Allen', 'Specter', 'Akaka', 'Schumer', 'Hatch', 'Collins', 'Hutchison', 'DeMint', 'Landrieu', 'Reed', 'Voinovich', 'Johnson', 'Dodd', 'Lieberman', 'Carper', 'Warner', 'Kennedy', 'Clinton', 'Bingaman', 'Crapo', 'Dayton', 'Dole', 'Harkin', 'Graham', 'Cantwell', 'Frist', 'Kerry', 'Gregg', 'Feinstein', 'Boxer', 'Snowe', 'Allard', 'Alexander', 'Mikulski', 'Lincoln', 'Talent', 'Baucus', 'Murkowski', 'Durbin', 'Inouye', 'Sarbanes', 'Bennett', 'Murray', 'Martinez', 'Cornyn', 'Obama', 'Sununu', 'Thune', 'Bayh', 'Stabenow', 'Nelson2', 'Byrd', 'Nelson1', 'McConnell', 'Coleman', 'Coburn', 'Lugar', 'Grassley', 'Sessions', 'Isakson', 'Cochran', 'Jeffords', 'Chambliss', 'Inhofe', 'Feingold', 'Rockefeller', 'McCain', 'Reid', 'Leahy', 'Conrad', 'Bond', 'Dorgan', 'Stevens', 'Chafee', 'Kohl']\n"
     ]
    },
    {
     "data": {
      "text/plain": [
       "['Inhofe', 'Feingold', -3]"
      ]
     },
     "execution_count": 266,
     "metadata": {},
     "output_type": "execute_result"
    }
   ],
   "source": [
    "bitter_rivals(voting_dict)"
   ]
  },
  {
   "cell_type": "code",
   "execution_count": null,
   "metadata": {
    "collapsed": true
   },
   "outputs": [],
   "source": []
  }
 ],
 "metadata": {
  "kernelspec": {
   "display_name": "Python 2",
   "language": "python",
   "name": "python2"
  },
  "language_info": {
   "codemirror_mode": {
    "name": "ipython",
    "version": 2
   },
   "file_extension": ".py",
   "mimetype": "text/x-python",
   "name": "python",
   "nbconvert_exporter": "python",
   "pygments_lexer": "ipython2",
   "version": "2.7.13"
  }
 },
 "nbformat": 4,
 "nbformat_minor": 2
}
