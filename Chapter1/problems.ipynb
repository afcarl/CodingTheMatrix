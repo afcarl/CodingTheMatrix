{
 "cells": [
  {
   "cell_type": "code",
   "execution_count": 1,
   "metadata": {
    "collapsed": true
   },
   "outputs": [],
   "source": [
    "import os\n",
    "import sys\n",
    "import numpy as np\n",
    "import pandas as pd\n",
    "import matplotlib.pyplot as plt\n",
    "%matplotlib inline"
   ]
  },
  {
   "cell_type": "code",
   "execution_count": 8,
   "metadata": {
    "collapsed": true
   },
   "outputs": [],
   "source": [
    "# Copyright 2013 Philip N. Klein\n",
    "\"\"\"\n",
    "This file contains a simple plotting interface, which uses a browser with SVG to\n",
    "present a plot of points represented as either complex numbers or 2-vectors.\n",
    "\n",
    "\"\"\"\n",
    "\n",
    "import webbrowser\n",
    "from numbers import Number\n",
    "\n",
    "import tempfile\n",
    "import os\n",
    "import atexit\n",
    "\n",
    "_browser = None\n",
    "\n",
    "def plot(L, scale=4, dot_size = 3, browser=None):\n",
    "    \"\"\" plot takes a list of points, optionally a scale (relative to a 200x200 frame),\n",
    "        optionally a dot size (diameter) in pixels, and optionally a browser name.\n",
    "        It produces an html file with SVG representing the given plot,\n",
    "        and opens the file in a web browser. It returns nothing.\n",
    "    \"\"\"\n",
    "    scalar = 200./scale\n",
    "    origin = (210, 210)\n",
    "    hpath = create_temp('.html')\n",
    "    with open(hpath, 'w') as h:\n",
    "        h.writelines(\n",
    "            ['<!DOCTYPE html>\\n'\n",
    "            ,'<head>\\n'\n",
    "            ,'<title>plot</title>\\n'\n",
    "            ,'</head>\\n'\n",
    "            ,'<body>\\n'\n",
    "            ,'<svg height=\"420\" width=420 xmlns=\"http://www.w3.org/2000/svg\">\\n'\n",
    "            ,'<line x1=\"0\" y1=\"210\" x2=\"420\" y2=\"210\"'\n",
    "            ,'style=\"stroke:rgb(0,0,0);stroke-width:2\"/>\\n'\n",
    "            ,'<line x1=\"210\" y1=\"0\" x2=\"210\" y2=\"420\"'\n",
    "            ,'style=\"stroke:rgb(0,0,0);stroke-width:2\"/>\\n'])\n",
    "        for pt in L:\n",
    "            if isinstance(pt, Number):\n",
    "                x,y = pt.real, pt.imag\n",
    "            else:\n",
    "                if isinstance(pt, tuple) or isinstance(pt, list):\n",
    "                    x,y = pt\n",
    "                else:\n",
    "                    raise ValueError\n",
    "            h.writelines(['<circle cx=\"%d\" cy=\"%d\" r=\"%d\" fill=\"red\"/>\\n'\n",
    "                          % (origin[0]+scalar*x,origin[1]-scalar*y,dot_size)])\n",
    "        h.writelines(['</svg>\\n</body>\\n</html>'])\n",
    "    if browser is None:\n",
    "        browser = _browser\n",
    "    webbrowser.get(browser).open('file://%s' % hpath)\n",
    "\n",
    "def setbrowser(browser=None):\n",
    "    \"\"\" Registers the given browser and saves it as the module default.\n",
    "        This is used to control which browser is used to display the plot.\n",
    "        The argument should be a value that can be passed to webbrowser.get()\n",
    "        to obtain a browser.  If no argument is given, the default is reset\n",
    "        to the system default.\n",
    "\n",
    "        webbrowser provides some predefined browser names, including:\n",
    "        'firefox'\n",
    "        'opera'\n",
    "\n",
    "        If the browser string contains '%s', it is interpreted as a literal\n",
    "        browser command line.  The URL will be substituted for '%s' in the command.\n",
    "        For example:\n",
    "        'google-chrome %s'\n",
    "        'cmd \"start iexplore.exe %s\"'\n",
    "\n",
    "        See the webbrowser documentation for more detailed information.\n",
    "\n",
    "        Note: Safari does not reliably work with the webbrowser module,\n",
    "        so we recommend using a different browser.\n",
    "    \"\"\"\n",
    "    global _browser\n",
    "    if browser is None:\n",
    "        _browser = None  # Use system default\n",
    "    else:\n",
    "        webbrowser.register(browser, None, webbrowser.get(browser))\n",
    "        _browser = browser\n",
    "\n",
    "def getbrowser():\n",
    "    \"\"\" Returns the module's default browser \"\"\"\n",
    "    return _browser\n",
    "\n",
    "# Create a temporary file that will be removed at exit\n",
    "# Returns a path to the file\n",
    "def create_temp(suffix='', prefix='tmp', dir=None):\n",
    "    _f, path = tempfile.mkstemp(suffix, prefix, dir)\n",
    "    os.close(_f)\n",
    "    remove_at_exit(path)\n",
    "    return path\n",
    "\n",
    "# Register a file to be removed at exit\n",
    "def remove_at_exit(path):\n",
    "    atexit.register(os.remove, path)"
   ]
  },
  {
   "cell_type": "code",
   "execution_count": 6,
   "metadata": {
    "collapsed": true
   },
   "outputs": [],
   "source": [
    "S = {2+2j, 3+2j, 1.75+1j, 2+1j, 2.25+1j,2.5+1j, 2.75+1j, 3+1j, 3.25+1j}"
   ]
  },
  {
   "cell_type": "code",
   "execution_count": 9,
   "metadata": {
    "collapsed": false
   },
   "outputs": [],
   "source": [
    "plot(S,4)"
   ]
  },
  {
   "cell_type": "code",
   "execution_count": 14,
   "metadata": {
    "collapsed": false
   },
   "outputs": [],
   "source": [
    "#rotate by 180\n",
    "plot([-1*z for z in S])\n",
    "#rotate by 90\n",
    "plot([1j*z for z in S])\n"
   ]
  },
  {
   "cell_type": "code",
   "execution_count": 17,
   "metadata": {
    "collapsed": true
   },
   "outputs": [],
   "source": [
    "import math\n",
    "e = math.e\n",
    "pi = math.pi"
   ]
  },
  {
   "cell_type": "code",
   "execution_count": 30,
   "metadata": {
    "collapsed": false
   },
   "outputs": [],
   "source": [
    "plot([(e**(1j*2*pi/n))*z for z in S],4)"
   ]
  },
  {
   "cell_type": "code",
   "execution_count": 31,
   "metadata": {
    "collapsed": false
   },
   "outputs": [],
   "source": [
    "plot([e**(1j*2*pi/n) for n in range(1,20)],4)"
   ]
  },
  {
   "cell_type": "code",
   "execution_count": 33,
   "metadata": {
    "collapsed": false
   },
   "outputs": [],
   "source": [
    "from GF2 import one"
   ]
  },
  {
   "cell_type": "code",
   "execution_count": 38,
   "metadata": {
    "collapsed": false
   },
   "outputs": [],
   "source": [
    "s = '10101 00100 10101 01011 11001 00011 01011 10101 00100 11001 11010'"
   ]
  },
  {
   "cell_type": "code",
   "execution_count": 39,
   "metadata": {
    "collapsed": true
   },
   "outputs": [],
   "source": [
    "s = s.split(' ')\n",
    "numbers = map(lambda x: int(x,2), s)"
   ]
  },
  {
   "cell_type": "raw",
   "metadata": {},
   "source": [
    "U, D, U, K, Z, C, K, U, D, Z,  "
   ]
  },
  {
   "cell_type": "code",
   "execution_count": 53,
   "metadata": {
    "collapsed": false
   },
   "outputs": [
    {
     "name": "stdout",
     "output_type": "stream",
     "text": [
      "[1, 5, 7]\n"
     ]
    }
   ],
   "source": [
    "#1.7.1\n",
    "def my_filter(L,num):\n",
    "    return [x for x in input_ if x%num!=0]\n",
    "input_ = [1,2,4,5,7]\n",
    "num = 2\n",
    "print my_filter(input_, num)"
   ]
  },
  {
   "cell_type": "code",
   "execution_count": 57,
   "metadata": {
    "collapsed": false
   },
   "outputs": [
    {
     "data": {
      "text/plain": [
       "[[1], [1, 2], [1, 2, 3]]"
      ]
     },
     "execution_count": 57,
     "metadata": {},
     "output_type": "execute_result"
    }
   ],
   "source": [
    "[range(1,x+1) for x in [1,2,3]]"
   ]
  },
  {
   "cell_type": "code",
   "execution_count": 64,
   "metadata": {
    "collapsed": false
   },
   "outputs": [
    {
     "data": {
      "text/plain": [
       "{(0, 'apple'), (1, 'banana')}"
      ]
     },
     "execution_count": 64,
     "metadata": {},
     "output_type": "execute_result"
    }
   ],
   "source": [
    "f = {0: 'a', 1:'b'}\n",
    "g = {'a':'apple', 'b':'banana'}\n",
    "{(u,v) for u in f.keys() for v in g.values() if g[f[u]] == v }"
   ]
  },
  {
   "cell_type": "code",
   "execution_count": 65,
   "metadata": {
    "collapsed": false
   },
   "outputs": [
    {
     "ename": "SyntaxError",
     "evalue": "invalid syntax (<ipython-input-65-02a7394e1cd5>, line 2)",
     "output_type": "error",
     "traceback": [
      "\u001b[0;36m  File \u001b[0;32m\"<ipython-input-65-02a7394e1cd5>\"\u001b[0;36m, line \u001b[0;32m2\u001b[0m\n\u001b[0;31m    [z+ for z for in z]\u001b[0m\n\u001b[0m          ^\u001b[0m\n\u001b[0;31mSyntaxError\u001b[0m\u001b[0;31m:\u001b[0m invalid syntax\n"
     ]
    }
   ],
   "source": [
    "a = [1,2,3]\n",
    "[ for z for in z]"
   ]
  },
  {
   "cell_type": "code",
   "execution_count": 69,
   "metadata": {
    "collapsed": false
   },
   "outputs": [
    {
     "data": {
      "text/plain": [
       "(1+3j)"
      ]
     },
     "execution_count": 69,
     "metadata": {},
     "output_type": "execute_result"
    }
   ],
   "source": []
  },
  {
   "cell_type": "code",
   "execution_count": null,
   "metadata": {
    "collapsed": true
   },
   "outputs": [],
   "source": []
  }
 ],
 "metadata": {
  "kernelspec": {
   "display_name": "Python 2",
   "language": "python",
   "name": "python2"
  },
  "language_info": {
   "codemirror_mode": {
    "name": "ipython",
    "version": 2
   },
   "file_extension": ".py",
   "mimetype": "text/x-python",
   "name": "python",
   "nbconvert_exporter": "python",
   "pygments_lexer": "ipython2",
   "version": "2.7.13"
  }
 },
 "nbformat": 4,
 "nbformat_minor": 2
}
